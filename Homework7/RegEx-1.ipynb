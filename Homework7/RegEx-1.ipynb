{
 "cells": [
  {
   "cell_type": "markdown",
   "metadata": {},
   "source": [
    "# Regular Expressions:\n",
    "\n",
    "https://docs.python.org/2/library/re.html\n",
    "\n",
    "## !!!!IMPORTANT!!!!\n",
    "Basic Tutorial: Please go through the tutorial here and complete the exercises at the end of the tutorial: https://regexone.com/lesson/introduction_abcs\n",
    "\n",
    "More advanced tutorial, optional:\n",
    "https://developers.google.com/edu/python/regular-expressions\n",
    "\n",
    "### In class:\n",
    "\n",
    "We are going to see the functions `re.search()`, `re.find()`, `re.findall()`, `re.finditer()`, and `re.sub()`."
   ]
  },
  {
   "cell_type": "code",
   "execution_count": null,
   "metadata": {
    "collapsed": true
   },
   "outputs": [],
   "source": [
    "import re"
   ]
  },
  {
   "cell_type": "code",
   "execution_count": null,
   "metadata": {
    "collapsed": true
   },
   "outputs": [],
   "source": [
    "b = \"AAAA\"\n",
    "m = re.search('AA',b)"
   ]
  },
  {
   "cell_type": "code",
   "execution_count": null,
   "metadata": {
    "collapsed": false
   },
   "outputs": [],
   "source": [
    "print type(m)\n",
    "print m\n",
    "dir(m)"
   ]
  },
  {
   "cell_type": "code",
   "execution_count": null,
   "metadata": {
    "collapsed": false
   },
   "outputs": [],
   "source": [
    "print m.group(), m.start(), m.end(), m.span()"
   ]
  },
  {
   "cell_type": "code",
   "execution_count": null,
   "metadata": {
    "collapsed": true
   },
   "outputs": [],
   "source": [
    "b = \"AAAA\"\n",
    "m = re.findall('AA',b)"
   ]
  },
  {
   "cell_type": "code",
   "execution_count": null,
   "metadata": {
    "collapsed": false
   },
   "outputs": [],
   "source": [
    "print type(m)\n",
    "print m"
   ]
  },
  {
   "cell_type": "markdown",
   "metadata": {},
   "source": [
    "Same problem with overlapping matches. To fix this we have to use a different syntax to tell python to not consume the match."
   ]
  },
  {
   "cell_type": "code",
   "execution_count": null,
   "metadata": {
    "collapsed": false
   },
   "outputs": [],
   "source": [
    "m = re.findall('(?=(AA))',b)\n",
    "m"
   ]
  },
  {
   "cell_type": "code",
   "execution_count": null,
   "metadata": {
    "collapsed": false
   },
   "outputs": [],
   "source": [
    "for m in re.finditer('AA',b):\n",
    "    print m.group(), m.start(), m.end(), m.span()"
   ]
  },
  {
   "cell_type": "code",
   "execution_count": null,
   "metadata": {
    "collapsed": false
   },
   "outputs": [],
   "source": [
    "for m in re.finditer('(?=(AA))',b):\n",
    "    print m.group(), m.start(), m.end(), m.span()"
   ]
  },
  {
   "cell_type": "markdown",
   "metadata": {},
   "source": [
    "We can use RegEx to find restriction sites in DNA sequences for example. The EcoRI site has the sequence: GAATTC. We can write a program to find all EcoRI sites in a sequence. We will use BioPython to read the sequence from a file."
   ]
  },
  {
   "cell_type": "code",
   "execution_count": null,
   "metadata": {
    "collapsed": false
   },
   "outputs": [],
   "source": [
    "from Bio import SeqIO\n",
    "a = SeqIO.read(\"testDNA.fasta\", \"fasta\")\n",
    "\n",
    "result = re.search('GAATTC',str(a.seq))\n",
    "\n",
    "print result.group(), result.start(), result.end(), result.span()"
   ]
  },
  {
   "cell_type": "code",
   "execution_count": null,
   "metadata": {
    "collapsed": false
   },
   "outputs": [],
   "source": [
    "result = re.findall('GAATTC',str(a.seq))\n",
    "result"
   ]
  },
  {
   "cell_type": "markdown",
   "metadata": {},
   "source": [
    "Only one site at position 2023. What about if we wanted to find all the sites for enzyme BiSI? It's restriction site is GCNGC, where N stands for any nucleotide.\n",
    "\n",
    "Now we will start to look at the power of regular expressions. RegEx have a syntax that uses special characters to perform specific functions, I got this nice summary from the github repository below and it is the same as the handout.\n",
    "\n",
    "https://github.com/tartley/python-regex-cheatsheet/blob/master/cheatsheet.rst\n",
    "\n",
    "\n",
    "__Special Characters:__\n",
    "\n",
    "\n",
    "```\n",
    "\\       Escape special char or start a sequence.\n",
    ".       Match any char except newline.\n",
    "^       Match start of the string.\n",
    "$       Match end of the string.\n",
    "[]      Enclose a set of matchable chars.\n",
    "R|S     Match either regex R or regex S.\n",
    "()      Create capture group, & indicate precedence\n",
    "```\n",
    "\n",
    "After '[', enclose a set, the only special chars are:\n",
    "\n",
    "```\n",
    "]   End the set, if not the 1st char\n",
    "-   A range, eg. a-c matches a, b or c\n",
    "^   Negate the set only if it is the 1st char\n",
    "```\n",
    "\n",
    "__Quantifiers:__\n",
    "\n",
    "```\n",
    "{m}     Exactly m repetitions\n",
    "{m,n}   From m (default 0) to n (default infinity)\n",
    "*       0 or more. Same as {,}\n",
    "+       1 or more. Same as {1,}\n",
    "?       0 or 1. Same as {,1}\n",
    "```\n",
    "\n",
    "__Special sequences:__\n",
    "\n",
    "```\n",
    "\\A  Start of string\n",
    "\\d  Digit\n",
    "\\D  Non-digit\n",
    "\\s  Whitespace [ \\t\\n\\r\\f\\v].\n",
    "\\S  Non-whitespace\n",
    "\\w  Alphanumeric: [0-9a-zA-Z_].\n",
    "\\W  Non-alphanumeric\n",
    "\\Z  End of string\n",
    "\\f  ASCII Formfeed\n",
    "\\n  ASCII Linefeed\n",
    "\\r  ASCII Carriage return\n",
    "\\t  ASCII Tab\n",
    "\\v  ASCII Vertical tab\n",
    "\\\\  A single backslash\n",
    "```\n",
    "\n",
    "__Extensions:__\n",
    "\n",
    "```\n",
    "(?=...)       Lookahead assertion, match without consuming\n",
    "There are several others but we won't go that deep in this course\n",
    "```\n",
    "\n",
    "__Case Insensitive:__\n",
    "\n",
    "```\n",
    "Add re.I as an argument to the re function.\n",
    "```\n",
    "\n",
    "_______\n",
    "\n",
    "For our purpose we need an expression that matches a 'GC', followed by any nucleotide, followed by another 'GC'. The following expressions all work:\n",
    "\n",
    "```\n",
    "GC\\wGC\n",
    "GC[ATGC]GC\n",
    "GCAGC|GCTGC|GCCGC|GCGGC\n",
    "```\n",
    "\n",
    "Let's test:"
   ]
  },
  {
   "cell_type": "code",
   "execution_count": null,
   "metadata": {
    "collapsed": false
   },
   "outputs": [],
   "source": [
    "result = re.findall('GC\\wGC',str(a.seq))\n",
    "result"
   ]
  },
  {
   "cell_type": "code",
   "execution_count": null,
   "metadata": {
    "collapsed": false
   },
   "outputs": [],
   "source": [
    "result = re.findall('(?=(GC\\wGC))',str(a.seq))\n",
    "result"
   ]
  },
  {
   "cell_type": "code",
   "execution_count": null,
   "metadata": {
    "collapsed": false
   },
   "outputs": [],
   "source": [
    "result = re.findall('GC[ATGC]GC',str(a.seq))\n",
    "result"
   ]
  },
  {
   "cell_type": "code",
   "execution_count": null,
   "metadata": {
    "collapsed": false
   },
   "outputs": [],
   "source": [
    "result = re.findall('GCAGC|GCTGC|GCCGC|GCGGC',str(a.seq))\n",
    "result"
   ]
  },
  {
   "cell_type": "code",
   "execution_count": null,
   "metadata": {
    "collapsed": false
   },
   "outputs": [],
   "source": [
    "for m in re.finditer('GC\\wGC',str(a.seq)):\n",
    "    print m.start(), m.group(), m.span()"
   ]
  },
  {
   "cell_type": "code",
   "execution_count": null,
   "metadata": {
    "collapsed": true
   },
   "outputs": [],
   "source": [
    "for m in re.finditer('gc\\wgc',str(a.seq)):\n",
    "    print m.start(), m.group(), m.span()"
   ]
  },
  {
   "cell_type": "code",
   "execution_count": null,
   "metadata": {
    "collapsed": false
   },
   "outputs": [],
   "source": [
    "for m in re.finditer('gc\\wgc',str(a.seq), re.I):\n",
    "    print m.start(), m.group(), m.span()"
   ]
  },
  {
   "cell_type": "markdown",
   "metadata": {},
   "source": [
    "### Pattern capture:\n",
    "\n",
    "You can use parenthesis around part of your pattern to return just that piece of info, to read this match you index the `group()` method. For example, if we wanted to find which nucleotide was between the GC's in each occurrence of the BisI site we can do:"
   ]
  },
  {
   "cell_type": "code",
   "execution_count": null,
   "metadata": {
    "collapsed": false
   },
   "outputs": [],
   "source": [
    "for m in re.finditer('gc(\\w)gc',str(a.seq), re.I):\n",
    "    print m.start(), m.group(), m.group(0), m.span(), m.group(1)"
   ]
  },
  {
   "cell_type": "markdown",
   "metadata": {},
   "source": [
    "You can use several parenthesis to get several parts of your pattern. If we had a restriction enzyme that had the site `GCN{0-3}GCNGC` we could use: `GC(\\w{0,3})GC\\w+GC`:"
   ]
  },
  {
   "cell_type": "code",
   "execution_count": null,
   "metadata": {
    "collapsed": false
   },
   "outputs": [],
   "source": [
    "mstring = \"\"\"\n",
    "GCaGCaGC\n",
    "GCGCgGC\n",
    "GCatgGCtGC\n",
    "\"\"\"\n",
    "for m in re.finditer('gc(\\w{0,3})gc(\\w)gc', mstring, re.I):\n",
    "    print m.start(), m.group(), m.group(0), m.span(), m.group(1), m.span(1), m.group(2), m.span(2)"
   ]
  },
  {
   "cell_type": "markdown",
   "metadata": {},
   "source": [
    "### Substitutions:"
   ]
  },
  {
   "cell_type": "code",
   "execution_count": null,
   "metadata": {
    "collapsed": false
   },
   "outputs": [],
   "source": [
    "text = \"Andre is lame\"\n",
    "print text\n",
    "text = re.sub(\"lame\", \"GREAT\", text, count=1)\n",
    "print text"
   ]
  },
  {
   "cell_type": "markdown",
   "metadata": {},
   "source": [
    "## Exercise:\n",
    "\n",
    "\n",
    "Add the regular expression necessary to find the names (use the fact that people names in this text always follow Mr.), emails, dates and proper nouns in the string below. I already the scaffold of the code and you just need to insert the regular expressions in the right locations:"
   ]
  },
  {
   "cell_type": "code",
   "execution_count": null,
   "metadata": {
    "collapsed": true
   },
   "outputs": [],
   "source": [
    "text = \"\"\"\n",
    "Hello Mr. Andre Cavalcanti, this is Mr. Anthony Cavalcanti, my email is anthony@pomona.edu, today is 2/3/2017.\n",
    "\n",
    "Other dates can come anywhere in the text, like here: 12/03/17, 04/05/1976, etc.\n",
    "\n",
    "\"\"\"\n",
    "\n",
    "# find names in the string:\n",
    "print \"Names:\"\n",
    "for m in re.finditer('',text):\n",
    "    print '\\t', m.start(), m.group(1), m.span()\n",
    "# find emails:\n",
    "print \"Emails:\"\n",
    "for m in re.finditer('',text):\n",
    "    print '\\t', m.start(), m.group(1), m.span()\n",
    "# Find date:\n",
    "print \"Dates:\"\n",
    "for m in re.finditer('',text):\n",
    "    print '\\t', m.start(), m.group(1), m.span()\n",
    "    \n",
    "print \"Proper nouns:\"\n",
    "for m in re.finditer('',text):\n",
    "    print '\\t', m.start(), m.group(1), m.span()"
   ]
  }
 ],
 "metadata": {
  "kernelspec": {
   "display_name": "Python [default]",
   "language": "python",
   "name": "python2"
  },
  "language_info": {
   "codemirror_mode": {
    "name": "ipython",
    "version": 2
   },
   "file_extension": ".py",
   "mimetype": "text/x-python",
   "name": "python",
   "nbconvert_exporter": "python",
   "pygments_lexer": "ipython2",
   "version": "2.7.13"
  }
 },
 "nbformat": 4,
 "nbformat_minor": 2
}
