{
 "cells": [
  {
   "cell_type": "markdown",
   "metadata": {},
   "source": [
    "# RegEx 2:\n",
    "\n",
    "Let's use the `re` and the `biopython` packages to write scripts to search for restriction sites in yeast genes and protein motifs in the yeast proteome.\n",
    "\n",
    "Our first step will be to download all the proteins in yeast, a file with all these proteins can b e found at SGD in the following url: http://downloads.yeastgenome.org/sequence/S288C_reference/orf_protein/orf_trans.fasta.gz. We will also download all the gene sequences from yeast: http://downloads.yeastgenome.org/sequence/S288C_reference/orf_dna/orf_coding.fasta.gz\n",
    "\n",
    "We will use the `urllib` package to download the files:"
   ]
  },
  {
   "cell_type": "code",
   "execution_count": null,
   "metadata": {
    "collapsed": true
   },
   "outputs": [],
   "source": [
    "import urllib\n",
    "url = \"http://downloads.yeastgenome.org/sequence/S288C_reference/orf_protein/orf_trans.fasta.gz\"\n",
    "urllib.urlretrieve(url,'./orf_trans.fasta.gz')  #first get the webpage you want\n",
    "protFile = 'orf_trans.fasta'\n",
    "\n",
    "url = \"http://downloads.yeastgenome.org/sequence/S288C_reference/orf_dna/orf_coding.fasta.gz\"\n",
    "urllib.urlretrieve(url,'./orf_coding.fasta.gz')  #first get the webpage you want\n",
    "orfFile = 'orf_coding.fasta'"
   ]
  },
  {
   "cell_type": "markdown",
   "metadata": {},
   "source": [
    "Now we will uncompress the files. Depending on your computer you might need to uncompress the file using the Finder or Windows Explorer."
   ]
  },
  {
   "cell_type": "code",
   "execution_count": null,
   "metadata": {
    "collapsed": false
   },
   "outputs": [],
   "source": [
    "!gunzip orf_coding.fasta.gz\n",
    "!gunzip orf_trans.fasta.gz"
   ]
  },
  {
   "cell_type": "markdown",
   "metadata": {},
   "source": [
    "### Finding restriction sites in yeast genes:\n",
    "\n",
    "\n",
    "#### Create a dataframe with all yeast genes: \n",
    "\n",
    "Let's write a script to read all the open reading frames and add them to a dataframe."
   ]
  },
  {
   "cell_type": "code",
   "execution_count": null,
   "metadata": {
    "collapsed": true
   },
   "outputs": [],
   "source": [
    "orfFile = 'orf_coding.fasta'\n",
    "from Bio import SeqIO\n",
    "information = []\n",
    "names = []\n",
    "for seq_record in SeqIO.parse(orfFile, \"fasta\"):\n",
    "    names.append(seq_record.name)\n",
    "    information.append([seq_record.name ,seq_record.description, str(seq_record.seq)])"
   ]
  },
  {
   "cell_type": "code",
   "execution_count": null,
   "metadata": {
    "collapsed": false
   },
   "outputs": [],
   "source": [
    "import pandas as pd\n",
    "allORFs = pd.DataFrame(information, columns=['acc','description','seq'])\n",
    "allORFs.head()"
   ]
  },
  {
   "cell_type": "markdown",
   "metadata": {},
   "source": [
    "#### Looping through a dataframe"
   ]
  },
  {
   "cell_type": "code",
   "execution_count": null,
   "metadata": {
    "collapsed": false
   },
   "outputs": [],
   "source": [
    "for index, row in allORFs.iterrows():\n",
    "    print index\n",
    "    print row\n",
    "    print row.acc\n",
    "    print row['acc']\n",
    "    break"
   ]
  },
  {
   "cell_type": "markdown",
   "metadata": {},
   "source": [
    "#### Search for restriction sites:"
   ]
  },
  {
   "cell_type": "code",
   "execution_count": null,
   "metadata": {
    "collapsed": false
   },
   "outputs": [],
   "source": [
    "# find all yeast genes that have an EcoRI restriction site and tell how many cuts in that gene\n",
    "import re\n",
    "genes = []\n",
    "for index, row in allORFs.iterrows():\n",
    "    result = re.findall('GAATTC',row.seq)\n",
    "    if len(result) > 0:\n",
    "        genes.append([row.acc, len(result)])\n",
    "genesEco = pd.DataFrame(genes, columns = ['acc','ecoRI'])\n",
    "genesEco.describe()"
   ]
  },
  {
   "cell_type": "code",
   "execution_count": null,
   "metadata": {
    "collapsed": false
   },
   "outputs": [],
   "source": [
    "import matplotlib.pyplot as plt\n",
    "genesEco['ecoRI'].hist()\n",
    "plt.show()"
   ]
  },
  {
   "cell_type": "code",
   "execution_count": null,
   "metadata": {
    "collapsed": false
   },
   "outputs": [],
   "source": [
    "genes = []\n",
    "for index, row in allORFs.iterrows():\n",
    "    result = re.findall('(?=(GC\\wGC))',row.seq)\n",
    "    if len(result) > 0:\n",
    "        genes.append([row.acc, len(result)])\n",
    "genesBisI = pd.DataFrame(genes, columns = ['acc','bisI'])\n",
    "genesBisI.describe()"
   ]
  },
  {
   "cell_type": "code",
   "execution_count": null,
   "metadata": {
    "collapsed": false
   },
   "outputs": [],
   "source": [
    "import matplotlib.pyplot as plt\n",
    "genesBisI['bisI'].hist()\n",
    "plt.show()"
   ]
  },
  {
   "cell_type": "markdown",
   "metadata": {},
   "source": [
    "#### Merging the results dataframes"
   ]
  },
  {
   "cell_type": "code",
   "execution_count": null,
   "metadata": {
    "collapsed": false
   },
   "outputs": [],
   "source": [
    "genesBoth = pd.merge(genesEco, genesBisI, how='outer', on ='acc')\n",
    "genesBoth.describe()"
   ]
  },
  {
   "cell_type": "code",
   "execution_count": null,
   "metadata": {
    "collapsed": false
   },
   "outputs": [],
   "source": [
    "print genesBoth.head()\n",
    "print genesBoth.tail()"
   ]
  },
  {
   "cell_type": "code",
   "execution_count": null,
   "metadata": {
    "collapsed": false
   },
   "outputs": [],
   "source": [
    "%matplotlib inline\n",
    "genesBoth.hist()"
   ]
  },
  {
   "cell_type": "code",
   "execution_count": null,
   "metadata": {
    "collapsed": false
   },
   "outputs": [],
   "source": [
    "import plotly.graph_objs as go\n",
    "from plotly.offline import init_notebook_mode, plot, iplot\n",
    "init_notebook_mode()"
   ]
  },
  {
   "cell_type": "code",
   "execution_count": null,
   "metadata": {
    "collapsed": false
   },
   "outputs": [],
   "source": [
    "data1 = go.Histogram(x=genesEco.ecoRI, opacity=0.75, name='EcoRI')\n",
    "data2 = go.Histogram(x=genesBisI.bisI, opacity=0.75, name='BisI')\n",
    "iplot([data1,data2])"
   ]
  },
  {
   "cell_type": "code",
   "execution_count": null,
   "metadata": {
    "collapsed": false
   },
   "outputs": [],
   "source": [
    "layout = go.Layout(barmode='overlay')\n",
    "fig = go.Figure(data=[data1,data2], layout=layout)\n",
    "iplot(fig)"
   ]
  },
  {
   "cell_type": "markdown",
   "metadata": {},
   "source": [
    "## Search for protein domains:\n",
    "\n",
    "PROSITE DATABASE: http://prosite.expasy.org\n",
    "\n",
    "PROSITE is a database of protein families and domains. It is based on the observation that, while there is a huge number of different proteins, most of them can be grouped, on the basis of similarities in their sequences, into a limited number of families. Proteins or protein domains belonging to a particular family generally share functional attributes and are derived from a common ancestor.\n",
    "\n",
    "It is apparent, when studying protein sequence families, that some regions have been better conserved than others during evolution. These regions are generally important for the function of a protein and/or for the maintenance of its three- dimensional structure. By analyzing the constant and variable properties of such groups of similar sequences, it is possible to derive a signature for a protein family or domain, which distinguishes its members from all other unrelated proteins. A pertinent analogy is the use of fingerprints by the police for identification purposes. A fingerprint is generally sufficient to identify a given individual. Similarly, a protein signature can be used to assign a newly sequenced protein to a specific family of proteins and thus to formulate hypotheses about its function.\n",
    "\n",
    "PROSITE currently contains patterns and profiles specific for more than a thousand protein families or domains. Each of these signatures comes with documentation providing background information on the structure and function of these proteins.\n",
    "\n",
    "\n",
    "PATTERNS, FROM THE DATABASE DESCRIPTION:\n",
    "\n",
    "The PA (PAttern) lines contains the definition of a PROSITE pattern. The patterns are described using the following conventions:\n",
    "\n",
    "1. The standard IUPAC one-letter codes for the amino acids are used.\n",
    "2. The symbol 'x' is used for a position where any amino acid is accepted.\n",
    "3. Ambiguities are indicated by listing the acceptable amino acids for a given position, between square parentheses '[ ]'. For example: [ALT] stands for Ala or Leu or Thr.\n",
    "4. Ambiguities are also indicated by listing between a pair of curly brackets '{ }' the amino acids that are not accepted at a given position. For example: {AM} stands for any amino acid except Ala and Met.\n",
    "5. Each element in a pattern is separated from its neighbor by a '-'.\n",
    "6. Repetition of an element of the pattern can be indicated by following that element with a numerical value or a numerical range between parenthesis. Examples: x(3) corresponds to x-x-x, x(2,4) corresponds to x-x or x-x-x or x-x-x-x.\n",
    "7. When a pattern is restricted to either the N- or C-terminal of a sequence, that pattern either starts with a '<' symbol or respectively ends with a '>' symbol. In some rare cases (e.g. PS00267 or PS00539), '>' can also occur inside square brackets for the C-terminal element. 'F-[GSTV]-P-R-L-[G>]' means that either 'F-[GSTV]-P-R-L-G' or 'F-[GSTV]-P-R-L>' are considered.\n",
    "8. A period ends the pattern.\n",
    "\n",
    "\n",
    "EXAMPLES:\n",
    "ER_TARGET: http://prosite.expasy.org/cgi-bin/prosite/prosite-search-ac?PDOC00014\n",
    "\n",
    "```\n",
    "[KRHQSA]-[DENQ]-E-L>.\n",
    "```\n",
    "\n",
    "In Python: \n",
    "```\n",
    "[KRHQSA][DENQ]EL$\n",
    "```\n",
    "\n",
    "\n",
    "Hsp90 proteins: http://prosite.expasy.org/PDOC00270\n",
    "\n",
    "```\n",
    "Y-x-[NQHD]-[KHR]-[DE]-[IVA]-F-[LM]-R-[ED].\n",
    "```\n",
    "\n",
    "In Python:\n",
    "\n",
    "```\n",
    "Y\\w[NQHD][KHR][DE][IVA]F[LM]R[ED]\n",
    "```"
   ]
  },
  {
   "cell_type": "code",
   "execution_count": null,
   "metadata": {
    "collapsed": false
   },
   "outputs": [],
   "source": [
    "from Bio import SeqIO\n",
    "information = []\n",
    "for seq_record in SeqIO.parse(protFile, \"fasta\"):\n",
    "    result = re.search('[KRHQSA][DENQ]EL\\*',str(seq_record.seq))\n",
    "    if result:\n",
    "        information.append([seq_record.name ,result.group(), result.span(), str(seq_record.description)])\n",
    "\n",
    "pd.DataFrame(information, columns=['acc','match','start_end','seq'])"
   ]
  },
  {
   "cell_type": "code",
   "execution_count": null,
   "metadata": {
    "collapsed": false
   },
   "outputs": [],
   "source": [
    "pattern = \"Y\\w[NQHD][KHR][DE][IVA]F[LM]R[ED]\"\n",
    "\n",
    "def findinseqfile(pattern,filein):\n",
    "    information = []\n",
    "    for seq_record in SeqIO.parse(filein, \"fasta\"):\n",
    "        result = re.search(pattern,str(seq_record.seq))\n",
    "        if result:\n",
    "            information.append([seq_record.name ,result.group(), result.span(), str(seq_record.description)])\n",
    "\n",
    "    return pd.DataFrame(information, columns=['acc','match','start_end','seq'])\n",
    "\n",
    "findinseqfile(pattern, protFile)"
   ]
  }
 ],
 "metadata": {
  "anaconda-cloud": {},
  "kernelspec": {
   "display_name": "Python [default]",
   "language": "python",
   "name": "python2"
  },
  "language_info": {
   "codemirror_mode": {
    "name": "ipython",
    "version": 2
   },
   "file_extension": ".py",
   "mimetype": "text/x-python",
   "name": "python",
   "nbconvert_exporter": "python",
   "pygments_lexer": "ipython2",
   "version": "2.7.13"
  }
 },
 "nbformat": 4,
 "nbformat_minor": 2
}
