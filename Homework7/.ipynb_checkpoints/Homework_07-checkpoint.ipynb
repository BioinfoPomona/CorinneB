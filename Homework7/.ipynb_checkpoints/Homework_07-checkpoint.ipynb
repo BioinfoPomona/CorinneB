{
 "cells": [
  {
   "cell_type": "markdown",
   "metadata": {},
   "source": [
    "## Homework 7:\n",
    "\n",
    "__Exercise 1.__ Go to prosite and find the Gamma-glutamyl phosphate reductase signature. Write a script to detect all yeast proteins that have the Gamma-glutamyl phosphate reductase signature from prosite. Your script should output a dataframe with the folowing info about the proteins: accession number, match to the first, span of the motif, and the protein's description.\n",
    "\n",
    "```\n",
    "[VA]-x(5)-A-[LIVAMTCK]-x-[HWFY]-[IM]-x(2)-[HYWNRFT]-[GSNT]-[STAG]-x(0,1)-H-[ST]-[DE]-x(1,2)-I\n",
    "```"
   ]
  },
  {
   "cell_type": "code",
   "execution_count": 16,
   "metadata": {
    "collapsed": false
   },
   "outputs": [
    {
     "data": {
      "text/html": [
       "<div>\n",
       "<table border=\"1\" class=\"dataframe\">\n",
       "  <thead>\n",
       "    <tr style=\"text-align: right;\">\n",
       "      <th></th>\n",
       "      <th>acc</th>\n",
       "      <th>match</th>\n",
       "      <th>start_end</th>\n",
       "      <th>seq</th>\n",
       "    </tr>\n",
       "  </thead>\n",
       "  <tbody>\n",
       "    <tr>\n",
       "      <th>0</th>\n",
       "      <td>YOR323C</td>\n",
       "      <td>VTSTESAIQHINTHSSRHTDAI</td>\n",
       "      <td>(338, 360)</td>\n",
       "      <td>YOR323C PRO2 SGDID:S000005850, Chr XV from 922...</td>\n",
       "    </tr>\n",
       "  </tbody>\n",
       "</table>\n",
       "</div>"
      ],
      "text/plain": [
       "       acc                   match   start_end  \\\n",
       "0  YOR323C  VTSTESAIQHINTHSSRHTDAI  (338, 360)   \n",
       "\n",
       "                                                 seq  \n",
       "0  YOR323C PRO2 SGDID:S000005850, Chr XV from 922...  "
      ]
     },
     "execution_count": 16,
     "metadata": {},
     "output_type": "execute_result"
    }
   ],
   "source": [
    "from Bio import SeqIO\n",
    "import re\n",
    "import pandas as pd\n",
    "\n",
    "pattern = '[VA].....A[LIVAMTCK].[HWFY][IM]..[HYWNRFT][GSNT][STAG].{0,1}H[ST][DE].{1,2}I'\n",
    "\n",
    "protFile = \"orf_trans.fasta\"\n",
    "information = []\n",
    "for seq_record in SeqIO.parse(protFile, \"fasta\"):\n",
    "    result = re.search(pattern,str(seq_record.seq)) #the \\* is a stop codon\n",
    "    if result: #if this matches, append to the list\n",
    "        information.append([seq_record.name ,result.group(), result.span(), str(seq_record.description)])\n",
    "\n",
    "pd.DataFrame(information, columns=['acc','match','start_end','seq'])"
   ]
  },
  {
   "cell_type": "markdown",
   "metadata": {},
   "source": [
    "__Exercise 2.__ Now do the same for the Hexapeptide-repeat containing-transferases signature.\n",
    "\n",
    "```\n",
    "[LIV]-[GAED]-x(2)-[STAV]-x-[LIV]-x(3)-[LIVAC]-x-[LIV]-[GAED]-x(2)-[STAVR]-x-[LIV]-[GAED]-x(2)-[STAV]-x-[LIV]-x(3)-[LIV]\n",
    "```"
   ]
  },
  {
   "cell_type": "code",
   "execution_count": 17,
   "metadata": {
    "collapsed": false
   },
   "outputs": [
    {
     "data": {
      "text/html": [
       "<div>\n",
       "<table border=\"1\" class=\"dataframe\">\n",
       "  <thead>\n",
       "    <tr style=\"text-align: right;\">\n",
       "      <th></th>\n",
       "      <th>acc</th>\n",
       "      <th>match</th>\n",
       "      <th>start_end</th>\n",
       "      <th>seq</th>\n",
       "    </tr>\n",
       "  </thead>\n",
       "  <tbody>\n",
       "    <tr>\n",
       "      <th>0</th>\n",
       "      <td>YDL055C</td>\n",
       "      <td>IDPTAKISSTAKIGPDVVIGPNVTIGDGV</td>\n",
       "      <td>(256, 285)</td>\n",
       "      <td>YDL055C PSA1 SGDID:S000002213, Chr IV from 356...</td>\n",
       "    </tr>\n",
       "    <tr>\n",
       "      <th>1</th>\n",
       "      <td>YJL218W</td>\n",
       "      <td>IGGGVSIIPGVNIGKNSVIAAGSVVIRDI</td>\n",
       "      <td>(138, 167)</td>\n",
       "      <td>YJL218W YJL218W SGDID:S000003754, Chr X from 2...</td>\n",
       "    </tr>\n",
       "  </tbody>\n",
       "</table>\n",
       "</div>"
      ],
      "text/plain": [
       "       acc                          match   start_end  \\\n",
       "0  YDL055C  IDPTAKISSTAKIGPDVVIGPNVTIGDGV  (256, 285)   \n",
       "1  YJL218W  IGGGVSIIPGVNIGKNSVIAAGSVVIRDI  (138, 167)   \n",
       "\n",
       "                                                 seq  \n",
       "0  YDL055C PSA1 SGDID:S000002213, Chr IV from 356...  \n",
       "1  YJL218W YJL218W SGDID:S000003754, Chr X from 2...  "
      ]
     },
     "execution_count": 17,
     "metadata": {},
     "output_type": "execute_result"
    }
   ],
   "source": [
    "from Bio import SeqIO\n",
    "import re\n",
    "import pandas as pd\n",
    "\n",
    "pattern = '[LIV][GAED]..[STAV].[LIV]...[LIVAC].[LIV][GAED]..[STAVR].[LIV][GAED]..[STAV].[LIV]...[LIV]'\n",
    "\n",
    "protFile = \"orf_trans.fasta\"\n",
    "information = []\n",
    "for seq_record in SeqIO.parse(protFile, \"fasta\"):\n",
    "    result = re.search(pattern,str(seq_record.seq)) #the \\* is a stop codon\n",
    "    if result: #if this matches, append to the list\n",
    "        information.append([seq_record.name ,result.group(), result.span(), str(seq_record.description)])\n",
    "\n",
    "pd.DataFrame(information, columns=['acc','match','start_end','seq'])"
   ]
  },
  {
   "cell_type": "markdown",
   "metadata": {},
   "source": [
    "__Exercise 3.__ Now find the 14-3-3 proteins signatures. The 14-3-3 proteins seem to have multiple biological activities and play a key role in signal transduction pathways and the cell cycle. The prosite database uses two motifs to determine members of this family.\n",
    "\n",
    "Write a script to search for proteins in yeast that have both domains in either order. You should find two proteins.\n",
    "\n",
    "Your script should show a dataframe with the proteins: accession number, match to the first motif, span of the first motif, match to the second motif, span of the second motif, and the proteins description.\n",
    "\n",
    "Although your regex doesn't need to match the domains in the reverse order for it to identify both yeast proteins, I would like for you to write a regex that would be able to identify such a case for this exercise purpose.\n",
    "\n",
    "```\n",
    "[RA]-N-L-[LIV]-S-[VG]-[GA]-Y-[KN]-N-[IVA]\n",
    "```\n",
    "\n",
    "and\n",
    "\n",
    "```\n",
    "Y-K-[DE]-[SG]-T-L-I-[IML]-Q-L-[LF]-[RHC]-D-N-[LF]-T-[LS]-W-[TANS]-[SAD]\n",
    "```"
   ]
  },
  {
   "cell_type": "code",
   "execution_count": 39,
   "metadata": {
    "collapsed": false
   },
   "outputs": [
    {
     "data": {
      "text/html": [
       "<div>\n",
       "<table border=\"1\" class=\"dataframe\">\n",
       "  <thead>\n",
       "    <tr style=\"text-align: right;\">\n",
       "      <th></th>\n",
       "      <th>acc</th>\n",
       "      <th>match</th>\n",
       "      <th>start_end</th>\n",
       "      <th>seq</th>\n",
       "    </tr>\n",
       "  </thead>\n",
       "  <tbody>\n",
       "    <tr>\n",
       "      <th>0</th>\n",
       "      <td>YDR099W</td>\n",
       "      <td>RNLLSVAYKNVIGARRASWRIVSSIEQKEESKEKSEHQVELIRSYR...</td>\n",
       "      <td>(42, 235)</td>\n",
       "      <td>YDR099W BMH2 SGDID:S000002506, Chr IV from 653...</td>\n",
       "    </tr>\n",
       "    <tr>\n",
       "      <th>1</th>\n",
       "      <td>YER177W</td>\n",
       "      <td>RNLLSVAYKNVIGARRASWRIVSSIEQKEESKEKSEHQVELICSYR...</td>\n",
       "      <td>(42, 235)</td>\n",
       "      <td>YER177W BMH1 SGDID:S000000979, Chr V from 5456...</td>\n",
       "    </tr>\n",
       "  </tbody>\n",
       "</table>\n",
       "</div>"
      ],
      "text/plain": [
       "       acc                                              match  start_end  \\\n",
       "0  YDR099W  RNLLSVAYKNVIGARRASWRIVSSIEQKEESKEKSEHQVELIRSYR...  (42, 235)   \n",
       "1  YER177W  RNLLSVAYKNVIGARRASWRIVSSIEQKEESKEKSEHQVELICSYR...  (42, 235)   \n",
       "\n",
       "                                                 seq  \n",
       "0  YDR099W BMH2 SGDID:S000002506, Chr IV from 653...  \n",
       "1  YER177W BMH1 SGDID:S000000979, Chr V from 5456...  "
      ]
     },
     "execution_count": 39,
     "metadata": {},
     "output_type": "execute_result"
    }
   ],
   "source": [
    "from Bio import SeqIO\n",
    "import re\n",
    "import pandas as pd\n",
    "\n",
    "pattern = '([RA]NL[LIV]S[VG][GA]Y[KN]N[IVA])\\w+(YK[DE][SG]TLI[IML]QL[LF][RHC]DN[LF]T[LS]W[TANS][SAD]|(YK[DE][SG]TLI[IML]QL[LF][RHC]DN[LF]T[LS]W[TANS][SAD]\\w+[RA]NL[LIV]S[VG][GA]Y[KN]N[IVA]))'  # the parenth tell that we want that specific are. Also, woould need an OR statement in case pattern 2 is followed by pattern 1\n",
    "\n",
    "protFile = \"orf_trans.fasta\"\n",
    "information = []\n",
    "for seq_record in SeqIO.parse(protFile, \"fasta\"):\n",
    "    result = re.search(pattern,str(seq_record.seq)) #the \\* is a stop codon\n",
    "    if result: #if this matches, append to the list\n",
    "        information.append([seq_record.name ,result.group(),result.span(), str(seq_record.description)]) #may need a group 1 and 2, and span 1 and 2 for the multipl expressions.\n",
    "\n",
    "pd.DataFrame(information, columns=['acc','match','start_end','seq'])"
   ]
  },
  {
   "cell_type": "markdown",
   "metadata": {},
   "source": [
    "__Exercise 4.__ Parsing and extracting data from a URL:\n",
    "\n",
    "This is form the tutorial that you should have completed.\n",
    "\n",
    "When working with files and resources over a network, you will often come across URIs and URLs which can be parsed and worked with directly. Most standard libraries will have classes to parse and construct these kind of identifiers, but if you need to match them in logs or a larger corpus of text, you can use regular expressions to pull out information from their structured format quite easily.\n",
    "\n",
    "URIs, or Uniform Resource Identifiers, are a representation of a resource that is generally composed of a scheme, host, port (optional), and resource path, respectively highlighted below.\n",
    "\n",
    "http://regexone.com:80/page\n",
    "\n",
    "The scheme describes the protocol to communicate with, the host and port describe the source of the resource, and the full path describes the location at the source for the resource.\n",
    "\n",
    "In the exercise below, try to extract the protocol, host and port of the all the resources listed in this string.\n",
    "\n",
    "```\n",
    "ftp://file_server.com:21/top_secret/life_changing_plans.pdf\n",
    "https://regexone.com/lesson/introduction#section\n",
    "file://localhost:4040/zip_file\n",
    "https://s3cur3-server.com:9999/\n",
    "market://search/angry%20birds\n",
    "```\n",
    "\n",
    "You can work interactively here: https://regexone.com/problem/extracting_url_data to find the right regular expression, then use re.finditer to create a dataframe with columns protocol, host and port for each of the matches in the string."
   ]
  },
  {
   "cell_type": "code",
   "execution_count": 5,
   "metadata": {
    "collapsed": false
   },
   "outputs": [
    {
     "data": {
      "text/html": [
       "<div>\n",
       "<table border=\"1\" class=\"dataframe\">\n",
       "  <thead>\n",
       "    <tr style=\"text-align: right;\">\n",
       "      <th></th>\n",
       "      <th>protocol</th>\n",
       "      <th>host</th>\n",
       "      <th>port</th>\n",
       "    </tr>\n",
       "  </thead>\n",
       "  <tbody>\n",
       "    <tr>\n",
       "      <th>0</th>\n",
       "      <td>ftp</td>\n",
       "      <td>file_server.com</td>\n",
       "      <td>21</td>\n",
       "    </tr>\n",
       "    <tr>\n",
       "      <th>1</th>\n",
       "      <td>https</td>\n",
       "      <td>regexone.com</td>\n",
       "      <td>None</td>\n",
       "    </tr>\n",
       "    <tr>\n",
       "      <th>2</th>\n",
       "      <td>file</td>\n",
       "      <td>localhost</td>\n",
       "      <td>4040</td>\n",
       "    </tr>\n",
       "    <tr>\n",
       "      <th>3</th>\n",
       "      <td>https</td>\n",
       "      <td>s3cur3-server.com</td>\n",
       "      <td>9999</td>\n",
       "    </tr>\n",
       "    <tr>\n",
       "      <th>4</th>\n",
       "      <td>market</td>\n",
       "      <td>search</td>\n",
       "      <td>None</td>\n",
       "    </tr>\n",
       "  </tbody>\n",
       "</table>\n",
       "</div>"
      ],
      "text/plain": [
       "  protocol               host  port\n",
       "0      ftp    file_server.com    21\n",
       "1    https       regexone.com  None\n",
       "2     file          localhost  4040\n",
       "3    https  s3cur3-server.com  9999\n",
       "4   market             search  None"
      ]
     },
     "execution_count": 5,
     "metadata": {},
     "output_type": "execute_result"
    }
   ],
   "source": [
    "#(\\w+)://([\\w\\-\\.]+)(:(\\d+))?\n",
    "from Bio import SeqIO\n",
    "import re\n",
    "import pandas as pd\n",
    "\n",
    "astring = \"\"\"\n",
    "ftp://file_server.com:21/top_secret/life_changing_plans.pdf\n",
    "https://regexone.com/lesson/introduction#section\n",
    "file://localhost:4040/zip_file\n",
    "https://s3cur3-server.com:9999/\n",
    "market://search/angry%20birds\n",
    "\"\"\"    \n",
    "\n",
    "data = []\n",
    "for a in re.finditer('(\\w+)://([\\w\\-\\.]+)(:(\\d+))?', astring, re.I):\n",
    "    data.append([a.group(1),  a.group(2), a.group(4)]) # just want the matches and I have three parenthese that I am looking at\n",
    "    \n",
    "pd.DataFrame(data, columns=['protocol','host','port'])\n",
    "\n",
    "#Why am I getting the same table from exercise 3???"
   ]
  },
  {
   "cell_type": "code",
   "execution_count": null,
   "metadata": {
    "collapsed": true
   },
   "outputs": [],
   "source": []
  }
 ],
 "metadata": {
  "anaconda-cloud": {},
  "kernelspec": {
   "display_name": "Python [default]",
   "language": "python",
   "name": "python2"
  },
  "language_info": {
   "codemirror_mode": {
    "name": "ipython",
    "version": 2
   },
   "file_extension": ".py",
   "mimetype": "text/x-python",
   "name": "python",
   "nbconvert_exporter": "python",
   "pygments_lexer": "ipython2",
   "version": "2.7.12"
  }
 },
 "nbformat": 4,
 "nbformat_minor": 2
}
