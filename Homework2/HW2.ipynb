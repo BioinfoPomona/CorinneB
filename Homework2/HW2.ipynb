{
 "cells": [
  {
   "cell_type": "markdown",
   "metadata": {},
   "source": [
    "# Homework 2 Tables and Figures"
   ]
  },
  {
   "cell_type": "markdown",
   "metadata": {},
   "source": [
    "## Table\n",
    "\n",
    "__Table 1.__ The breakdown of majors on the CMS Women's Basketball team!\n",
    "\n",
    "|          |    Science    |  Economics | Other |\n",
    "|:---------|:-------------:|:----------:|:-----:|\n",
    "| Freshman |       3       |     1      |   1   |\n",
    "| Sophomore |      2       |     1      |   0   |\n",
    "| Junior   |       4       |     0      |   0   |\n",
    "| Senior   |       3       |     1      |   2   |\n",
    "| Total    |       12      |     3      |   3   |"
   ]
  },
  {
   "cell_type": "markdown",
   "metadata": {},
   "source": [
    "## Figure"
   ]
  },
  {
   "cell_type": "code",
   "execution_count": 1,
   "metadata": {
    "collapsed": false
   },
   "outputs": [
    {
     "name": "stdout",
     "output_type": "stream",
     "text": [
      "<svg width=\"500\" height=\"500\" xmlns=\"http://www.w3.org/2000/svg\" xmlns:xlink=\"http://www.w3.org/1999/xlink\">\n",
      "<line x1=\"50\" y1=\"450\" x2=\"450\" y2=\"450\" stroke=\"black\" stroke-width=\"2\" />\n",
      "<line x1=\"50\" y1=\"450\" x2=\"450\" y2=\"450\" stroke=\"black\" stroke-width=\"2\" />\n",
      "<line x1=\"50\" y1=\"450\" x2=\"50\" y2=\"50\" stroke=\"black\" stroke-width=\"2\" />\n",
      "<text x=\"10\" y=\"30\" font-family=\"Verdana\" font-size=\"14\" fill=\"red\">(82,946)</text>\n",
      "<text x=\"10\" y=\"470\" font-family=\"Verdana\" font-size=\"14\" fill=\"red\">(82,13)</text>\n",
      "<text x=\"450\" y=\"470\" font-family=\"Verdana\" font-size=\"14\" fill=\"red\">(983,13)</text>\n",
      "    \n",
      "<circle cx=\"275.083240844\" cy=\"311.093247588\" r=\"5\" fill=\"blue\"></circle>\n",
      "<circle cx=\"240.455049945\" cy=\"244.640943194\" r=\"5\" fill=\"blue\"></circle>\n",
      "<circle cx=\"391.842397336\" cy=\"99.7320471597\" r=\"5\" fill=\"blue\"></circle>\n",
      "<circle cx=\"50.0\" cy=\"279.796355841\" r=\"5\" fill=\"blue\"></circle>\n",
      "<circle cx=\"403.829078801\" cy=\"186.334405145\" r=\"5\" fill=\"blue\"></circle>\n",
      "<circle cx=\"420.699223085\" cy=\"436.709539121\" r=\"5\" fill=\"blue\"></circle>\n",
      "<circle cx=\"255.105438402\" cy=\"50.857449089\" r=\"5\" fill=\"blue\"></circle>\n",
      "<circle cx=\"129.467258602\" cy=\"359.539121115\" r=\"5\" fill=\"blue\"></circle>\n",
      "<circle cx=\"343.007769145\" cy=\"50.0\" r=\"5\" fill=\"blue\"></circle>\n",
      "<circle cx=\"450.0\" cy=\"450.0\" r=\"5\" fill=\"blue\"></circle>\n",
      "</svg>\n"
     ]
    }
   ],
   "source": [
    "def myScatter(x,y):\n",
    "    '''Function to draw a scatter plot in SVG\n",
    "    Input: two lists with the same size\n",
    "    Output: String containing the scatter plot.'''\n",
    "    #Set some of the SVG properties\n",
    "    svgWidth = 500\n",
    "    svgHeight = 500\n",
    "    pointColor = \"green\"\n",
    "    xmargin = 50 # x-coordinate of the y-axis\n",
    "    ymargin = 50 # y-coordinate of the x-axis\n",
    "    xaxis = 400 # width of x-axis\n",
    "    yaxis = 400 # height of y-axis\n",
    "    xLeft = xmargin\n",
    "    xRight = xmargin + xaxis\n",
    "    yBottom = svgHeight - ymargin\n",
    "    yTop = svgHeight - ymargin - yaxis\n",
    "\n",
    "    #Let's test if the lists have the same size, if not return false\n",
    "    if len(x) != len(y):\n",
    "        return 0\n",
    "    #if yes find the maximum and the minimum x and y\n",
    "    xmin = min(x)\n",
    "    ymin = min(y)\n",
    "\n",
    "    xmax = max(x)\n",
    "    ymax = max(y)\n",
    "\n",
    "    xRange = xmax - xmin   # note the capital letter, xrange is a python function \n",
    "    # so we need to capitalize our variable xRange\n",
    "    yRange = ymax - ymin\n",
    "\n",
    "    #let's create a string with the SVG code\n",
    "    #we will create the canvas and draw the axes\n",
    "    svg = '''<svg width=\"{width}\" height=\"{height}\" xmlns=\"http://www.w3.org/2000/svg\" xmlns:xlink=\"http://www.w3.org/1999/xlink\">\n",
    "<line x1=\"{xleft}\" y1=\"{ybottom}\" x2=\"{xright}\" y2=\"{ybottom}\" stroke=\"black\" stroke-width=\"2\" />\n",
    "<line x1=\"{xleft}\" y1=\"{ybottom}\" x2=\"{xright}\" y2=\"{ybottom}\" stroke=\"black\" stroke-width=\"2\" />\n",
    "<line x1=\"{xleft}\" y1=\"{ybottom}\" x2=\"{xleft}\" y2=\"{ytop}\" stroke=\"black\" stroke-width=\"2\" />'''.format(width=svgWidth, height=svgHeight, \n",
    "                    xleft=xLeft, ybottom=yBottom, xright=xRight, ytop=yTop)\n",
    "\n",
    "    #let's draw the axes labels\n",
    "    svg = svg + '''\n",
    "<text x=\"{xleft}\" y=\"{ytop}\" font-family=\"Verdana\" font-size=\"14\" fill=\"red\">({xmin},{ymax})</text>\n",
    "<text x=\"{xleft}\" y=\"{ybottom}\" font-family=\"Verdana\" font-size=\"14\" fill=\"red\">({xmin},{ymin})</text>\n",
    "<text x=\"{xright}\" y=\"{ybottom}\" font-family=\"Verdana\" font-size=\"14\" fill=\"red\">({xmax},{ymin})</text>\n",
    "    '''.format(xleft=xLeft-40, xright=xRight, ytop=yTop-20, ybottom=yBottom+20, xmax=xmax, \n",
    "                    xmin=xmin, ymax=ymax, ymin=ymin)\n",
    "\n",
    "    #add the points to the graph. Note the float function in the division to avoid integer \n",
    "    # division problems.\n",
    "    for xi,yi in zip(x,y):\n",
    "        svg = svg + '''\n",
    "<circle cx=\"{xcoord}\" cy=\"{ycoord}\" r=\"5\" fill=\"blue\"></circle>'''.format(\n",
    "        xcoord=xLeft+((xaxis/float(xRange))*(xi-xmin)), \n",
    "        ycoord=yBottom-((yaxis/float(yRange))*(yi-ymin)))\n",
    "\n",
    "    #close the svg element\n",
    "    svg = svg + '''\n",
    "</svg>'''\n",
    "\n",
    "    return svg\n",
    "\n",
    "#create some random data to plot\n",
    "import random\n",
    "import random\n",
    "x = [random.randint(0,1000) for r in xrange(10)]\n",
    "y = [random.randint(0,1000) for r in xrange(10)]\n",
    "\n",
    "svg = myScatter(x, y)\n",
    "\n",
    "fileout = open(\"test.svg\",\"w\")\n",
    "fileout.write(svg)\n",
    "fileout.close()\n",
    "print svg\n"
   ]
  },
  {
   "cell_type": "code",
   "execution_count": null,
   "metadata": {
    "collapsed": true
   },
   "outputs": [],
   "source": []
  },
  {
   "cell_type": "code",
   "execution_count": 3,
   "metadata": {
    "collapsed": false
   },
   "outputs": [
    {
     "data": {
      "image/svg+xml": [
       "<svg height=\"500\" width=\"500\" xmlns=\"http://www.w3.org/2000/svg\" xmlns:xlink=\"http://www.w3.org/1999/xlink\">\n",
       "<line stroke=\"black\" stroke-width=\"2\" x1=\"50\" x2=\"450\" y1=\"450\" y2=\"450\"/>\n",
       "<line stroke=\"black\" stroke-width=\"2\" x1=\"50\" x2=\"450\" y1=\"450\" y2=\"450\"/>\n",
       "<line stroke=\"black\" stroke-width=\"2\" x1=\"50\" x2=\"50\" y1=\"450\" y2=\"50\"/>\n",
       "<text fill=\"red\" font-family=\"Verdana\" font-size=\"14\" x=\"10\" y=\"30\">(100,945)</text>\n",
       "<text fill=\"red\" font-family=\"Verdana\" font-size=\"14\" x=\"10\" y=\"470\">(100,236)</text>\n",
       "<text fill=\"red\" font-family=\"Verdana\" font-size=\"14\" x=\"450\" y=\"470\">(739,236)</text>\n",
       "    \n",
       "<circle cx=\"98.8262910798\" cy=\"186.530324401\" fill=\"blue\" r=\"5\"/>\n",
       "<circle cx=\"118.231611894\" cy=\"50.0\" fill=\"blue\" r=\"5\"/>\n",
       "<circle cx=\"220.266040689\" cy=\"450.0\" fill=\"blue\" r=\"5\"/>\n",
       "<circle cx=\"422.456964006\" cy=\"92.8772919605\" fill=\"blue\" r=\"5\"/>\n",
       "<circle cx=\"209.624413146\" cy=\"249.717912553\" fill=\"blue\" r=\"5\"/>\n",
       "<circle cx=\"225.273865415\" cy=\"167.348377997\" fill=\"blue\" r=\"5\"/>\n",
       "<circle cx=\"50.0\" cy=\"392.45416079\" fill=\"blue\" r=\"5\"/>\n",
       "<circle cx=\"329.186228482\" cy=\"130.112834979\" fill=\"blue\" r=\"5\"/>\n",
       "<circle cx=\"311.03286385\" cy=\"148.730606488\" fill=\"blue\" r=\"5\"/>\n",
       "<circle cx=\"450.0\" cy=\"439.28067701\" fill=\"blue\" r=\"5\"/>\n",
       "</svg>"
      ],
      "text/plain": [
       "<IPython.core.display.SVG object>"
      ]
     },
     "metadata": {},
     "output_type": "display_data"
    }
   ],
   "source": [
    "%%svg\n",
    "<svg width=\"500\" height=\"500\" xmlns=\"http://www.w3.org/2000/svg\" xmlns:xlink=\"http://www.w3.org/1999/xlink\">\n",
    "<line x1=\"50\" y1=\"450\" x2=\"450\" y2=\"450\" stroke=\"black\" stroke-width=\"2\" />\n",
    "<line x1=\"50\" y1=\"450\" x2=\"450\" y2=\"450\" stroke=\"black\" stroke-width=\"2\" />\n",
    "<line x1=\"50\" y1=\"450\" x2=\"50\" y2=\"50\" stroke=\"black\" stroke-width=\"2\" />\n",
    "<text x=\"10\" y=\"30\" font-family=\"Verdana\" font-size=\"14\" fill=\"red\">(100,945)</text>\n",
    "<text x=\"10\" y=\"470\" font-family=\"Verdana\" font-size=\"14\" fill=\"red\">(100,236)</text>\n",
    "<text x=\"450\" y=\"470\" font-family=\"Verdana\" font-size=\"14\" fill=\"red\">(739,236)</text>\n",
    "    \n",
    "<circle cx=\"98.8262910798\" cy=\"186.530324401\" r=\"5\" fill=\"blue\"></circle>\n",
    "<circle cx=\"118.231611894\" cy=\"50.0\" r=\"5\" fill=\"blue\"></circle>\n",
    "<circle cx=\"220.266040689\" cy=\"450.0\" r=\"5\" fill=\"blue\"></circle>\n",
    "<circle cx=\"422.456964006\" cy=\"92.8772919605\" r=\"5\" fill=\"blue\"></circle>\n",
    "<circle cx=\"209.624413146\" cy=\"249.717912553\" r=\"5\" fill=\"blue\"></circle>\n",
    "<circle cx=\"225.273865415\" cy=\"167.348377997\" r=\"5\" fill=\"blue\"></circle>\n",
    "<circle cx=\"50.0\" cy=\"392.45416079\" r=\"5\" fill=\"blue\"></circle>\n",
    "<circle cx=\"329.186228482\" cy=\"130.112834979\" r=\"5\" fill=\"blue\"></circle>\n",
    "<circle cx=\"311.03286385\" cy=\"148.730606488\" r=\"5\" fill=\"blue\"></circle>\n",
    "<circle cx=\"450.0\" cy=\"439.28067701\" r=\"5\" fill=\"blue\"></circle>\n",
    "</svg>"
   ]
  },
  {
   "cell_type": "markdown",
   "metadata": {},
   "source": [
    "## Image"
   ]
  },
  {
   "cell_type": "markdown",
   "metadata": {},
   "source": [
    "![alt text](./bball.png)"
   ]
  },
  {
   "cell_type": "markdown",
   "metadata": {},
   "source": [
    "## Check Us Out!"
   ]
  },
  {
   "cell_type": "code",
   "execution_count": 8,
   "metadata": {
    "collapsed": false,
    "scrolled": true
   },
   "outputs": [
    {
     "data": {
      "image/jpeg": "[encoded data removed]",
      "text/html": [
       "\n",
       "        <iframe\n",
       "            width=\"400\"\n",
       "            height=\"300\"\n",
       "            src=\"https://www.youtube.com/embed/xq52KuBqs4k\"\n",
       "            frameborder=\"0\"\n",
       "            allowfullscreen\n",
       "        ></iframe>\n",
       "        "
      ],
      "text/plain": [
       "<IPython.lib.display.YouTubeVideo at 0x10598a0d0>"
      ]
     },
     "execution_count": 8,
     "metadata": {},
     "output_type": "execute_result"
    }
   ],
   "source": [
    "# Video\n",
    "\n",
    "from IPython.display import YouTubeVideo\n",
    "# a talk about IPython at Sage Days at U. Washington, Seattle.\n",
    "# Video credit: William Stein.\n",
    "YouTubeVideo('xq52KuBqs4k')"
   ]
  },
  {
   "cell_type": "code",
   "execution_count": 12,
   "metadata": {
    "collapsed": false
   },
   "outputs": [
    {
     "data": {
      "image/svg+xml": [
       "<svg width=\"750\" xmlns=\"http://www.w3.org/2000/svg\" xmlns:xlink=\"http://www.w3.org/1999/xlink\">\n",
       "<circle cx=\"350\" cy=\"40\" fill=\"deeppink\" r=\"10\" stroke=\"blueviolet\" stroke-width=\"3\"/>\n",
       "<circle cx=\"350\" cy=\"65\" fill=\"deeppink\" r=\"10\" stroke=\"blueviolet\" stroke-width=\"3\"/>\n",
       "<circle cx=\"350\" cy=\"90\" fill=\"deeppink\" r=\"10\" stroke=\"blueviolet\" stroke-width=\"3\"/>\n",
       "<circle cx=\"350\" cy=\"115\" fill=\"deeppink\" r=\"10\" stroke=\"blueviolet\" stroke-width=\"3\"/>\n",
       "<circle cx=\"350\" cy=\"140\" fill=\"deeppink\" r=\"10\" stroke=\"blueviolet\" stroke-width=\"3\"/>\n",
       "<circle cx=\"350\" cy=\"165\" fill=\"deeppink\" r=\"10\" stroke=\"blueviolet\" stroke-width=\"3\"/>\n",
       "<ellipse cx=\"415\" cy=\"125\" fill=\"fuchsia\" rx=\"50\" ry=\"20\" stroke=\"aqua\" stroke-width=\"3\"/>\n",
       "<ellipse cx=\"288\" cy=\"125\" fill=\"fuchsia\" rx=\"50\" ry=\"20\" stroke=\"aqua\" stroke-width=\"3\"/>\n",
       "<ellipse cx=\"455\" cy=\"60\" fill=\"fuchsia\" rx=\"90\" ry=\"20\" stroke=\"aqua\" stroke-width=\"3\"/>\n",
       "<ellipse cx=\"245\" cy=\"60\" fill=\"fuchsia\" rx=\"90\" ry=\"20\" stroke=\"aqua\" stroke-width=\"3\"/>\n",
       "<line stroke=\"black\" stroke-width=\"3\" x1=\"358\" x2=\"385\" y1=\"34\" y2=\"15\"/>\n",
       "<line stroke=\"black\" stroke-width=\"3\" x1=\"340\" x2=\"315\" y1=\"34\" y2=\"15\"/>\n",
       "<circle cx=\"390\" cy=\"14\" fill=\"lawngreen\" r=\"5\" stroke=\"dodgerblue\" stroke-width=\"3\"/>\n",
       "<circle cx=\"310\" cy=\"13\" fill=\"lawngreen\" r=\"5\" stroke=\"dodgerblue\" stroke-width=\"3\"/>\n",
       "<line stroke=\"limegreen\" stroke-width=\"3\" x1=\"175\" x2=\"200\" y1=\"70\" y2=\"45\"/>\n",
       "<line stroke=\"limegreen\" stroke-width=\"3\" x1=\"200\" x2=\"220\" y1=\"45\" y2=\"77\"/>\n",
       "<line stroke=\"limegreen\" stroke-width=\"3\" x1=\"220\" x2=\"240\" y1=\"77\" y2=\"42\"/>\n",
       "<line stroke=\"limegreen\" stroke-width=\"3\" x1=\"240\" x2=\"260\" y1=\"42\" y2=\"77\"/>\n",
       "<line stroke=\"limegreen\" stroke-width=\"3\" x1=\"260\" x2=\"280\" y1=\"77\" y2=\"44\"/>\n",
       "<line stroke=\"limegreen\" stroke-width=\"3\" x1=\"280\" x2=\"299\" y1=\"42\" y2=\"75\"/>\n",
       "    \n",
       "<line stroke=\"limegreen\" stroke-width=\"3\" x1=\"380\" x2=\"405\" y1=\"70\" y2=\"45\"/>\n",
       "<line stroke=\"limegreen\" stroke-width=\"3\" x1=\"430\" x2=\"407\" y1=\"77\" y2=\"43\"/>\n",
       "<line stroke=\"limegreen\" stroke-width=\"3\" x1=\"450\" x2=\"431\" y1=\"43\" y2=\"77\"/>\n",
       "<line stroke=\"limegreen\" stroke-width=\"3\" x1=\"471\" x2=\"448\" y1=\"77\" y2=\"43\"/>\n",
       "<line stroke=\"limegreen\" stroke-width=\"3\" x1=\"471\" x2=\"495\" y1=\"77\" y2=\"44\"/>\n",
       "<line stroke=\"limegreen\" stroke-width=\"3\" x1=\"495\" x2=\"520\" y1=\"42\" y2=\"73\"/>\n",
       "    \n",
       "<circle cx=\"710\" cy=\"40\" fill=\"gainsboro\" r=\"60\" stroke=\"antiquewhite\" stroke-width=\"2\"/>\n",
       "<polygon fill=\"yellow\" points=\"70,15 50,80 125,30 30,50 120,70\"/>\n",
       "    \n",
       "    \n",
       "</svg>"
      ],
      "text/plain": [
       "<IPython.core.display.SVG object>"
      ]
     },
     "metadata": {},
     "output_type": "display_data"
    }
   ],
   "source": [
    "%%svg\n",
    "<svg width=\"750\" xmlns=\"http://www.w3.org/2000/svg\" xmlns:xlink=\"http://www.w3.org/1999/xlink\">\n",
    "<circle cx=\"350\" cy=\"40\" r=\"10\" stroke=\"blueviolet\" stroke-width=\"3\" fill=\"deeppink\"/>\n",
    "<circle cx=\"350\" cy=\"65\" r=\"10\" stroke=\"blueviolet\" stroke-width=\"3\" fill=\"deeppink\"/>\n",
    "<circle cx=\"350\" cy=\"90\" r=\"10\" stroke=\"blueviolet\" stroke-width=\"3\" fill=\"deeppink\"/>\n",
    "<circle cx=\"350\" cy=\"115\" r=\"10\" stroke=\"blueviolet\" stroke-width=\"3\" fill=\"deeppink\"/>\n",
    "<circle cx=\"350\" cy=\"140\" r=\"10\" stroke=\"blueviolet\" stroke-width=\"3\" fill=\"deeppink\"/>\n",
    "<circle cx=\"350\" cy=\"165\" r=\"10\" stroke=\"blueviolet\" stroke-width=\"3\" fill=\"deeppink\"/>\n",
    "<ellipse cx=\"415\" cy=\"125\" rx=\"50\" ry=\"20\" stroke=\"aqua\" stroke-width=\"3\" fill=\"fuchsia\"/>\n",
    "<ellipse cx=\"288\" cy=\"125\" rx=\"50\" ry=\"20\" stroke=\"aqua\" stroke-width=\"3\" fill=\"fuchsia\"/>\n",
    "<ellipse cx=\"455\" cy=\"60\" rx=\"90\" ry=\"20\" stroke=\"aqua\" stroke-width=\"3\" fill=\"fuchsia\"/>\n",
    "<ellipse cx=\"245\" cy=\"60\" rx=\"90\" ry=\"20\" stroke=\"aqua\" stroke-width=\"3\" fill=\"fuchsia\"/>\n",
    "<line x1=\"358\" y1=\"34\" x2=\"385\" y2=\"15\" stroke=\"black\" stroke-width=\"3\"/>\n",
    "<line x1=\"340\" y1=\"34\" x2=\"315\" y2=\"15\" stroke=\"black\" stroke-width=\"3\"/>\n",
    "<circle cx=\"390\" cy=\"14\" r=\"5\" stroke=\"dodgerblue\" stroke-width=\"3\" fill=\"lawngreen\"/>\n",
    "<circle cx=\"310\" cy=\"13\" r=\"5\" stroke=\"dodgerblue\" stroke-width=\"3\" fill=\"lawngreen\"/>\n",
    "<line x1=\"175\" y1=\"70\" x2=\"200\" y2=\"45\" stroke=\"limegreen\" stroke-width=\"3\"/>\n",
    "<line x1=\"200\" y1=\"45\" x2=\"220\" y2=\"77\" stroke=\"limegreen\" stroke-width=\"3\"/>\n",
    "<line x1=\"220\" y1=\"77\" x2=\"240\" y2=\"42\" stroke=\"limegreen\" stroke-width=\"3\"/>\n",
    "<line x1=\"240\" y1=\"42\" x2=\"260\" y2=\"77\" stroke=\"limegreen\" stroke-width=\"3\"/>\n",
    "<line x1=\"260\" y1=\"77\" x2=\"280\" y2=\"44\" stroke=\"limegreen\" stroke-width=\"3\"/>\n",
    "<line x1=\"280\" y1=\"42\" x2=\"299\" y2=\"75\" stroke=\"limegreen\" stroke-width=\"3\"/>\n",
    "    \n",
    "<line x1=\"380\" y1=\"70\" x2=\"405\" y2=\"45\" stroke=\"limegreen\" stroke-width=\"3\"/>\n",
    "<line x1=\"430\" y1=\"77\" x2=\"407\" y2=\"43\" stroke=\"limegreen\" stroke-width=\"3\"/>\n",
    "<line x1=\"450\" y1=\"43\" x2=\"431\" y2=\"77\" stroke=\"limegreen\" stroke-width=\"3\"/>\n",
    "<line x1=\"471\" y1=\"77\" x2=\"448\" y2=\"43\" stroke=\"limegreen\" stroke-width=\"3\"/>\n",
    "<line x1=\"471\" y1=\"77\" x2=\"495\" y2=\"44\" stroke=\"limegreen\" stroke-width=\"3\"/>\n",
    "<line x1=\"495\" y1=\"42\" x2=\"520\" y2=\"73\" stroke=\"limegreen\" stroke-width=\"3\"/>\n",
    "    \n",
    "<circle cx=\"710\" cy=\"40\" r=\"60\" stroke=\"antiquewhite\" stroke-width=\"2\" fill=\"gainsboro\"/>\n",
    "<polygon points=\"70,15 50,80 125,30 30,50 120,70\" fill=\"yellow\"/>\n",
    "    \n",
    "    \n",
    "</svg>"
   ]
  },
  {
   "cell_type": "code",
   "execution_count": null,
   "metadata": {
    "collapsed": true
   },
   "outputs": [],
   "source": []
  },
  {
   "cell_type": "code",
   "execution_count": null,
   "metadata": {
    "collapsed": true
   },
   "outputs": [],
   "source": []
  }
 ],
 "metadata": {
  "anaconda-cloud": {},
  "kernelspec": {
   "display_name": "Python [conda root]",
   "language": "python",
   "name": "conda-root-py"
  },
  "language_info": {
   "codemirror_mode": {
    "name": "ipython",
    "version": 2
   },
   "file_extension": ".py",
   "mimetype": "text/x-python",
   "name": "python",
   "nbconvert_exporter": "python",
   "pygments_lexer": "ipython2",
   "version": "2.7.12"
  }
 },
 "nbformat": 4,
 "nbformat_minor": 1
}
